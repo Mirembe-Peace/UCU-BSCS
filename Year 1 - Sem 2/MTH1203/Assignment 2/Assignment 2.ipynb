{
 "cells": [
  {
   "cell_type": "markdown",
   "metadata": {},
   "source": [
    "## Assignment 2\n",
    "\n",
    "1. Import the provided datasets in to visual studio (“Cassava_Yield_Data.xlsx” and “Bike_Sales.xlsx”)\n",
    "2. Explore the datasets by identifying the data type of each variable.\n",
    "3. Describe the central tendency of two continuous variables.\n",
    "4. Generate graphs to show the variability/dispersion on one continuous variable and one categorical variable.\n",
    "5. Generate visuals to show the relationship between two continuous variables\n",
    "6. Generate visuals to show the relationship between two categorical variables\n",
    "7. Generate visuals to show the relationship between one continuous and one categorical variable\n",
    "8. Generate statistical tests for questions 5-7 above.\n",
    "\n"
   ]
  },
  {
   "cell_type": "markdown",
   "metadata": {},
   "source": [
    "## Group 1 Members\n",
    "\n",
    "    Nathaniel Mugenyi B28313 BSCS\n",
    "    Katawera Noel Ephraim B27030 BSIT\n",
    "    Ifemene Paul Chukwumaobim B28325 BSIT\n",
    "    Raymond James Mugojja B28838 BSIT\n"
   ]
  },
  {
   "cell_type": "markdown",
   "metadata": {},
   "source": [
    "### 1. Import the provided datasets in to visual studio (“Cassava_Yield_Data.xlsx” and “Bike_Sales.xlsx”)"
   ]
  },
  {
   "cell_type": "code",
   "execution_count": 3,
   "metadata": {},
   "outputs": [
    {
     "data": {
      "text/html": [
       "<div>\n",
       "<style scoped>\n",
       "    .dataframe tbody tr th:only-of-type {\n",
       "        vertical-align: middle;\n",
       "    }\n",
       "\n",
       "    .dataframe tbody tr th {\n",
       "        vertical-align: top;\n",
       "    }\n",
       "\n",
       "    .dataframe thead th {\n",
       "        text-align: right;\n",
       "    }\n",
       "</style>\n",
       "<table border=\"1\" class=\"dataframe\">\n",
       "  <thead>\n",
       "    <tr style=\"text-align: right;\">\n",
       "      <th></th>\n",
       "      <th>Date</th>\n",
       "      <th>Day</th>\n",
       "      <th>Month</th>\n",
       "      <th>Year</th>\n",
       "      <th>Customer_Age</th>\n",
       "      <th>Age_Group</th>\n",
       "      <th>Customer_Gender</th>\n",
       "      <th>Country</th>\n",
       "      <th>State</th>\n",
       "      <th>Product_Category</th>\n",
       "      <th>Sub_Category</th>\n",
       "      <th>Product</th>\n",
       "      <th>Order_Quantity</th>\n",
       "      <th>Unit_Cost</th>\n",
       "      <th>Unit_Price</th>\n",
       "      <th>Profit</th>\n",
       "      <th>Cost</th>\n",
       "      <th>Revenue</th>\n",
       "    </tr>\n",
       "  </thead>\n",
       "  <tbody>\n",
       "    <tr>\n",
       "      <th>0</th>\n",
       "      <td>2017-01-01</td>\n",
       "      <td>1</td>\n",
       "      <td>January</td>\n",
       "      <td>2017</td>\n",
       "      <td>17</td>\n",
       "      <td>Youth (&lt;25)</td>\n",
       "      <td>M</td>\n",
       "      <td>Canada</td>\n",
       "      <td>British Columbia</td>\n",
       "      <td>Bikes</td>\n",
       "      <td>Road Bikes</td>\n",
       "      <td>Road-250 Red, 44</td>\n",
       "      <td>2</td>\n",
       "      <td>1519</td>\n",
       "      <td>2443</td>\n",
       "      <td>1848</td>\n",
       "      <td>3038</td>\n",
       "      <td>4886</td>\n",
       "    </tr>\n",
       "    <tr>\n",
       "      <th>1</th>\n",
       "      <td>2017-01-01</td>\n",
       "      <td>1</td>\n",
       "      <td>January</td>\n",
       "      <td>2017</td>\n",
       "      <td>23</td>\n",
       "      <td>Youth (&lt;25)</td>\n",
       "      <td>M</td>\n",
       "      <td>Australia</td>\n",
       "      <td>Victoria</td>\n",
       "      <td>Bikes</td>\n",
       "      <td>Mountain Bikes</td>\n",
       "      <td>Mountain-200 Black, 46</td>\n",
       "      <td>2</td>\n",
       "      <td>1252</td>\n",
       "      <td>2295</td>\n",
       "      <td>2086</td>\n",
       "      <td>2504</td>\n",
       "      <td>4590</td>\n",
       "    </tr>\n",
       "    <tr>\n",
       "      <th>2</th>\n",
       "      <td>2017-01-01</td>\n",
       "      <td>1</td>\n",
       "      <td>January</td>\n",
       "      <td>2017</td>\n",
       "      <td>33</td>\n",
       "      <td>Young Adults (25-34)</td>\n",
       "      <td>F</td>\n",
       "      <td>France</td>\n",
       "      <td>Yveline</td>\n",
       "      <td>Bikes</td>\n",
       "      <td>Road Bikes</td>\n",
       "      <td>Road-150 Red, 48</td>\n",
       "      <td>2</td>\n",
       "      <td>2171</td>\n",
       "      <td>3578</td>\n",
       "      <td>2814</td>\n",
       "      <td>4342</td>\n",
       "      <td>7156</td>\n",
       "    </tr>\n",
       "    <tr>\n",
       "      <th>3</th>\n",
       "      <td>2017-01-01</td>\n",
       "      <td>1</td>\n",
       "      <td>January</td>\n",
       "      <td>2017</td>\n",
       "      <td>39</td>\n",
       "      <td>Adults (35-64)</td>\n",
       "      <td>M</td>\n",
       "      <td>United States</td>\n",
       "      <td>Washington</td>\n",
       "      <td>Bikes</td>\n",
       "      <td>Road Bikes</td>\n",
       "      <td>Road-550-W Yellow, 38</td>\n",
       "      <td>2</td>\n",
       "      <td>713</td>\n",
       "      <td>1120</td>\n",
       "      <td>814</td>\n",
       "      <td>1426</td>\n",
       "      <td>2240</td>\n",
       "    </tr>\n",
       "    <tr>\n",
       "      <th>4</th>\n",
       "      <td>2017-01-01</td>\n",
       "      <td>1</td>\n",
       "      <td>January</td>\n",
       "      <td>2017</td>\n",
       "      <td>42</td>\n",
       "      <td>Adults (35-64)</td>\n",
       "      <td>M</td>\n",
       "      <td>United States</td>\n",
       "      <td>California</td>\n",
       "      <td>Bikes</td>\n",
       "      <td>Road Bikes</td>\n",
       "      <td>Road-750 Black, 44</td>\n",
       "      <td>2</td>\n",
       "      <td>344</td>\n",
       "      <td>540</td>\n",
       "      <td>392</td>\n",
       "      <td>688</td>\n",
       "      <td>1080</td>\n",
       "    </tr>\n",
       "    <tr>\n",
       "      <th>...</th>\n",
       "      <td>...</td>\n",
       "      <td>...</td>\n",
       "      <td>...</td>\n",
       "      <td>...</td>\n",
       "      <td>...</td>\n",
       "      <td>...</td>\n",
       "      <td>...</td>\n",
       "      <td>...</td>\n",
       "      <td>...</td>\n",
       "      <td>...</td>\n",
       "      <td>...</td>\n",
       "      <td>...</td>\n",
       "      <td>...</td>\n",
       "      <td>...</td>\n",
       "      <td>...</td>\n",
       "      <td>...</td>\n",
       "      <td>...</td>\n",
       "      <td>...</td>\n",
       "    </tr>\n",
       "    <tr>\n",
       "      <th>113031</th>\n",
       "      <td>2021-12-31</td>\n",
       "      <td>31</td>\n",
       "      <td>December</td>\n",
       "      <td>2021</td>\n",
       "      <td>52</td>\n",
       "      <td>Adults (35-64)</td>\n",
       "      <td>F</td>\n",
       "      <td>United Kingdom</td>\n",
       "      <td>England</td>\n",
       "      <td>Bikes</td>\n",
       "      <td>Road Bikes</td>\n",
       "      <td>Road-250 Black, 58</td>\n",
       "      <td>2</td>\n",
       "      <td>1555</td>\n",
       "      <td>2443</td>\n",
       "      <td>1776</td>\n",
       "      <td>3110</td>\n",
       "      <td>4886</td>\n",
       "    </tr>\n",
       "    <tr>\n",
       "      <th>113032</th>\n",
       "      <td>2021-12-31</td>\n",
       "      <td>31</td>\n",
       "      <td>December</td>\n",
       "      <td>2021</td>\n",
       "      <td>25</td>\n",
       "      <td>Young Adults (25-34)</td>\n",
       "      <td>F</td>\n",
       "      <td>Germany</td>\n",
       "      <td>Hessen</td>\n",
       "      <td>Bikes</td>\n",
       "      <td>Road Bikes</td>\n",
       "      <td>Road-550-W Yellow, 38</td>\n",
       "      <td>1</td>\n",
       "      <td>713</td>\n",
       "      <td>1120</td>\n",
       "      <td>407</td>\n",
       "      <td>713</td>\n",
       "      <td>1120</td>\n",
       "    </tr>\n",
       "    <tr>\n",
       "      <th>113033</th>\n",
       "      <td>2021-12-31</td>\n",
       "      <td>31</td>\n",
       "      <td>December</td>\n",
       "      <td>2021</td>\n",
       "      <td>26</td>\n",
       "      <td>Young Adults (25-34)</td>\n",
       "      <td>M</td>\n",
       "      <td>Australia</td>\n",
       "      <td>Queensland</td>\n",
       "      <td>Bikes</td>\n",
       "      <td>Road Bikes</td>\n",
       "      <td>Road-550-W Yellow, 42</td>\n",
       "      <td>1</td>\n",
       "      <td>713</td>\n",
       "      <td>1120</td>\n",
       "      <td>407</td>\n",
       "      <td>713</td>\n",
       "      <td>1120</td>\n",
       "    </tr>\n",
       "    <tr>\n",
       "      <th>113034</th>\n",
       "      <td>2021-12-31</td>\n",
       "      <td>31</td>\n",
       "      <td>December</td>\n",
       "      <td>2021</td>\n",
       "      <td>33</td>\n",
       "      <td>Young Adults (25-34)</td>\n",
       "      <td>F</td>\n",
       "      <td>Australia</td>\n",
       "      <td>New South Wales</td>\n",
       "      <td>Bikes</td>\n",
       "      <td>Mountain Bikes</td>\n",
       "      <td>Mountain-200 Black, 38</td>\n",
       "      <td>1</td>\n",
       "      <td>1252</td>\n",
       "      <td>2295</td>\n",
       "      <td>1043</td>\n",
       "      <td>1252</td>\n",
       "      <td>2295</td>\n",
       "    </tr>\n",
       "    <tr>\n",
       "      <th>113035</th>\n",
       "      <td>2021-12-31</td>\n",
       "      <td>31</td>\n",
       "      <td>December</td>\n",
       "      <td>2021</td>\n",
       "      <td>44</td>\n",
       "      <td>Adults (35-64)</td>\n",
       "      <td>M</td>\n",
       "      <td>Australia</td>\n",
       "      <td>Victoria</td>\n",
       "      <td>Bikes</td>\n",
       "      <td>Road Bikes</td>\n",
       "      <td>Road-550-W Yellow, 42</td>\n",
       "      <td>1</td>\n",
       "      <td>713</td>\n",
       "      <td>1120</td>\n",
       "      <td>407</td>\n",
       "      <td>713</td>\n",
       "      <td>1120</td>\n",
       "    </tr>\n",
       "  </tbody>\n",
       "</table>\n",
       "<p>113036 rows × 18 columns</p>\n",
       "</div>"
      ],
      "text/plain": [
       "             Date  Day     Month  Year  Customer_Age             Age_Group  \\\n",
       "0      2017-01-01    1   January  2017            17           Youth (<25)   \n",
       "1      2017-01-01    1   January  2017            23           Youth (<25)   \n",
       "2      2017-01-01    1   January  2017            33  Young Adults (25-34)   \n",
       "3      2017-01-01    1   January  2017            39        Adults (35-64)   \n",
       "4      2017-01-01    1   January  2017            42        Adults (35-64)   \n",
       "...           ...  ...       ...   ...           ...                   ...   \n",
       "113031 2021-12-31   31  December  2021            52        Adults (35-64)   \n",
       "113032 2021-12-31   31  December  2021            25  Young Adults (25-34)   \n",
       "113033 2021-12-31   31  December  2021            26  Young Adults (25-34)   \n",
       "113034 2021-12-31   31  December  2021            33  Young Adults (25-34)   \n",
       "113035 2021-12-31   31  December  2021            44        Adults (35-64)   \n",
       "\n",
       "       Customer_Gender         Country             State Product_Category  \\\n",
       "0                    M          Canada  British Columbia            Bikes   \n",
       "1                    M       Australia          Victoria            Bikes   \n",
       "2                    F          France           Yveline            Bikes   \n",
       "3                    M   United States        Washington            Bikes   \n",
       "4                    M   United States        California            Bikes   \n",
       "...                ...             ...               ...              ...   \n",
       "113031               F  United Kingdom           England            Bikes   \n",
       "113032               F         Germany            Hessen            Bikes   \n",
       "113033               M       Australia        Queensland            Bikes   \n",
       "113034               F       Australia   New South Wales            Bikes   \n",
       "113035               M       Australia          Victoria            Bikes   \n",
       "\n",
       "          Sub_Category                 Product  Order_Quantity  Unit_Cost  \\\n",
       "0           Road Bikes        Road-250 Red, 44               2       1519   \n",
       "1       Mountain Bikes  Mountain-200 Black, 46               2       1252   \n",
       "2           Road Bikes        Road-150 Red, 48               2       2171   \n",
       "3           Road Bikes   Road-550-W Yellow, 38               2        713   \n",
       "4           Road Bikes      Road-750 Black, 44               2        344   \n",
       "...                ...                     ...             ...        ...   \n",
       "113031      Road Bikes      Road-250 Black, 58               2       1555   \n",
       "113032      Road Bikes   Road-550-W Yellow, 38               1        713   \n",
       "113033      Road Bikes   Road-550-W Yellow, 42               1        713   \n",
       "113034  Mountain Bikes  Mountain-200 Black, 38               1       1252   \n",
       "113035      Road Bikes   Road-550-W Yellow, 42               1        713   \n",
       "\n",
       "        Unit_Price  Profit  Cost  Revenue  \n",
       "0             2443    1848  3038     4886  \n",
       "1             2295    2086  2504     4590  \n",
       "2             3578    2814  4342     7156  \n",
       "3             1120     814  1426     2240  \n",
       "4              540     392   688     1080  \n",
       "...            ...     ...   ...      ...  \n",
       "113031        2443    1776  3110     4886  \n",
       "113032        1120     407   713     1120  \n",
       "113033        1120     407   713     1120  \n",
       "113034        2295    1043  1252     2295  \n",
       "113035        1120     407   713     1120  \n",
       "\n",
       "[113036 rows x 18 columns]"
      ]
     },
     "execution_count": 3,
     "metadata": {},
     "output_type": "execute_result"
    }
   ],
   "source": [
    "#Import pandas to manage the data \n",
    "import pandas as pd\n",
    "\n",
    "#create a dataframe for the dataset \n",
    "df = pd.read_excel('Bike_Sales.xlsx')\n",
    "df"
   ]
  },
  {
   "cell_type": "markdown",
   "metadata": {},
   "source": [
    "### 2. Explore the datasets by identifying the data type of each variable."
   ]
  },
  {
   "cell_type": "code",
   "execution_count": 4,
   "metadata": {},
   "outputs": [
    {
     "data": {
      "text/plain": [
       "Date                datetime64[ns]\n",
       "Day                          int64\n",
       "Month                       object\n",
       "Year                         int64\n",
       "Customer_Age                 int64\n",
       "Age_Group                   object\n",
       "Customer_Gender             object\n",
       "Country                     object\n",
       "State                       object\n",
       "Product_Category            object\n",
       "Sub_Category                object\n",
       "Product                     object\n",
       "Order_Quantity               int64\n",
       "Unit_Cost                    int64\n",
       "Unit_Price                   int64\n",
       "Profit                       int64\n",
       "Cost                         int64\n",
       "Revenue                      int64\n",
       "dtype: object"
      ]
     },
     "execution_count": 4,
     "metadata": {},
     "output_type": "execute_result"
    }
   ],
   "source": [
    "df.dtypes"
   ]
  },
  {
   "cell_type": "markdown",
   "metadata": {},
   "source": [
    "### 3. Describe the central tendency of two continuous variables.\n",
    "\n",
    "The central tendancy reflects the center of the data distribution. Central tendancy is found by using mean, median, and mode. \n",
    "\n",
    "Continious Variables.\n",
    "1. Customer Age\n",
    "2. Order Quantity \n",
    "\n",
    "I chose these contious variabels to undertand the relationship between age and order qauntity. "
   ]
  },
  {
   "cell_type": "code",
   "execution_count": 5,
   "metadata": {},
   "outputs": [
    {
     "name": "stdout",
     "output_type": "stream",
     "text": [
      "The mean of the cusotmer age = 35.91921157861212\n",
      "The mode of the cusotmer age = 0    31\n",
      "Name: Customer_Age, dtype: int64\n",
      "The median of the cusotmer age = 35.0\n"
     ]
    }
   ],
   "source": [
    "#customer age\n",
    "ca = df['Customer_Age']\n",
    "print(f'The mean of the cusotmer age = {ca.mean()}')\n",
    "print(f'The mode of the cusotmer age = {ca.mode()}')\n",
    "print(f'The median of the cusotmer age = {ca.median()}')\n",
    "\n"
   ]
  },
  {
   "cell_type": "code",
   "execution_count": 6,
   "metadata": {},
   "outputs": [
    {
     "name": "stdout",
     "output_type": "stream",
     "text": [
      "The mean of the order quantity = 11.901659648253654\n",
      "The mode of the corder quantity = 0    1\n",
      "Name: Order_Quantity, dtype: int64\n",
      "The median of the order quantity= 10.0\n"
     ]
    }
   ],
   "source": [
    "#Order Qauntity\n",
    "oq = df['Order_Quantity']\n",
    "print(f'The mean of the order quantity = {oq.mean()}')\n",
    "print(f'The mode of the corder quantity = {oq.mode()}')\n",
    "print(f'The median of the order quantity= {oq.median()}')\n",
    "\n"
   ]
  },
  {
   "cell_type": "markdown",
   "metadata": {},
   "source": [
    "### 4. Generate graphs to show the variability/dispersion on one continuous variable and one categorical variable."
   ]
  },
  {
   "cell_type": "markdown",
   "metadata": {},
   "source": [
    "1. Categorical Variable - Age Group\n",
    "2. Continous Variable - Cost\n",
    "\n",
    "I want to understand the costs for selling to a particular age group\n",
    "I would also remove outliers for better vizualizaitons "
   ]
  },
  {
   "cell_type": "code",
   "execution_count": 7,
   "metadata": {},
   "outputs": [
    {
     "data": {
      "text/plain": [
       "<Axes: xlabel='Cost', ylabel='Age_Group'>"
      ]
     },
     "execution_count": 7,
     "metadata": {},
     "output_type": "execute_result"
    },
    {
     "data": {
      "image/png": "[encoded data removed]",
      "text/plain": [
       "<Figure size 640x480 with 1 Axes>"
      ]
     },
     "metadata": {},
     "output_type": "display_data"
    }
   ],
   "source": [
    "\n",
    "import seaborn as sns \n",
    "\n",
    "\n",
    "#Product category \n",
    "pc = df[['Age_Group','Cost']]\n",
    "\n",
    "sns.boxplot(data=pc, y = 'Age_Group',x = 'Cost')\n",
    "\n",
    "\n",
    "\n"
   ]
  },
  {
   "cell_type": "markdown",
   "metadata": {},
   "source": [
    "### 5. Generate visuals to show the relationship between two continuous variables"
   ]
  },
  {
   "cell_type": "markdown",
   "metadata": {},
   "source": [
    "1. Continous Variable - Cost\n",
    "2. Continous Variable - Profit\n",
    "\n",
    "I want to see how much it costs to generate profit."
   ]
  },
  {
   "cell_type": "code",
   "execution_count": 12,
   "metadata": {},
   "outputs": [
    {
     "data": {
      "text/plain": [
       "<Axes: xlabel='Cost', ylabel='Profit'>"
      ]
     },
     "execution_count": 12,
     "metadata": {},
     "output_type": "execute_result"
    },
    {
     "data": {
      "image/png": "[encoded data removed]",
      "text/plain": [
       "<Figure size 640x480 with 1 Axes>"
      ]
     },
     "metadata": {},
     "output_type": "display_data"
    }
   ],
   "source": [
    "#data frame for Month and Year\n",
    "cp = df[['Cost','Profit']]\n",
    "\n",
    "sns.scatterplot(data = cp, x='Cost', y='Profit')"
   ]
  },
  {
   "cell_type": "markdown",
   "metadata": {},
   "source": [
    "To better visualize this I would exclude the outliers from the month of July"
   ]
  },
  {
   "cell_type": "markdown",
   "metadata": {},
   "source": [
    "### 6. Generate visuals to show the relationship between two categorical variables"
   ]
  },
  {
   "cell_type": "markdown",
   "metadata": {},
   "source": [
    "1. Categorical Variable - Customer Gender\n",
    "2. Categorical Variable - Sub Category\n",
    "\n",
    "I want to see if there is a product category that is prefered by a certain gender. "
   ]
  },
  {
   "cell_type": "code",
   "execution_count": 9,
   "metadata": {},
   "outputs": [
    {
     "data": {
      "text/plain": [
       "<Axes: xlabel='count', ylabel='Sub_Category'>"
      ]
     },
     "execution_count": 9,
     "metadata": {},
     "output_type": "execute_result"
    },
    {
     "data": {
      "image/png": "[encoded data removed]",
      "text/plain": [
       "<Figure size 640x480 with 1 Axes>"
      ]
     },
     "metadata": {},
     "output_type": "display_data"
    }
   ],
   "source": [
    "gen = df[['Customer_Gender','Sub_Category']]\n",
    "\n",
    "\n",
    "sns.countplot(data = gen, y=\"Sub_Category\",hue=\"Customer_Gender\")"
   ]
  },
  {
   "cell_type": "markdown",
   "metadata": {},
   "source": [
    "### 7. Generate visuals to show the relationship between one continuous and one categorical variable"
   ]
  },
  {
   "cell_type": "markdown",
   "metadata": {},
   "source": [
    "1. Categorical Variable - Sub Category\n",
    "2. Continous Variable - Profit \n",
    "\n",
    "I want to understand the which sub categories make the most profit. "
   ]
  },
  {
   "cell_type": "markdown",
   "metadata": {},
   "source": []
  },
  {
   "cell_type": "code",
   "execution_count": 10,
   "metadata": {},
   "outputs": [
    {
     "data": {
      "text/plain": [
       "<Axes: xlabel='Profit', ylabel='Sub_Category'>"
      ]
     },
     "execution_count": 10,
     "metadata": {},
     "output_type": "execute_result"
    },
    {
     "data": {
      "image/png": "[encoded data removed]",
      "text/plain": [
       "<Figure size 640x480 with 1 Axes>"
      ]
     },
     "metadata": {},
     "output_type": "display_data"
    }
   ],
   "source": [
    "\n",
    "#Product category \n",
    "pc = df[['Sub_Category','Profit']]\n",
    "\n",
    "sns.barplot(data=pc, y = 'Sub_Category',x = 'Profit')\n"
   ]
  },
  {
   "cell_type": "markdown",
   "metadata": {},
   "source": [
    "### 8. Generate statistical tests for questions 5-7 above."
   ]
  },
  {
   "cell_type": "code",
   "execution_count": 28,
   "metadata": {},
   "outputs": [
    {
     "data": {
      "text/html": [
       "<div>\n",
       "<style scoped>\n",
       "    .dataframe tbody tr th:only-of-type {\n",
       "        vertical-align: middle;\n",
       "    }\n",
       "\n",
       "    .dataframe tbody tr th {\n",
       "        vertical-align: top;\n",
       "    }\n",
       "\n",
       "    .dataframe thead th {\n",
       "        text-align: right;\n",
       "    }\n",
       "</style>\n",
       "<table border=\"1\" class=\"dataframe\">\n",
       "  <thead>\n",
       "    <tr style=\"text-align: right;\">\n",
       "      <th></th>\n",
       "      <th>Cost</th>\n",
       "      <th>Profit</th>\n",
       "    </tr>\n",
       "  </thead>\n",
       "  <tbody>\n",
       "    <tr>\n",
       "      <th>Cost</th>\n",
       "      <td>1.000000</td>\n",
       "      <td>0.961552</td>\n",
       "    </tr>\n",
       "    <tr>\n",
       "      <th>Profit</th>\n",
       "      <td>0.961552</td>\n",
       "      <td>1.000000</td>\n",
       "    </tr>\n",
       "  </tbody>\n",
       "</table>\n",
       "</div>"
      ],
      "text/plain": [
       "            Cost    Profit\n",
       "Cost    1.000000  0.961552\n",
       "Profit  0.961552  1.000000"
      ]
     },
     "execution_count": 28,
     "metadata": {},
     "output_type": "execute_result"
    }
   ],
   "source": [
    "# Supressing the warning messages\n",
    "import warnings\n",
    "warnings.filterwarnings('ignore')\n",
    "\n",
    "#Using a Correlation Matrix to test Question 5\n",
    "cp.corr()\n"
   ]
  },
  {
   "cell_type": "code",
   "execution_count": 32,
   "metadata": {},
   "outputs": [
    {
     "name": "stdout",
     "output_type": "stream",
     "text": [
      "Sub_Category     Bike Racks  Bike Stands  Bottles and Cages  Caps  Cleaners  \\\n",
      "Customer_Gender                                                               \n",
      "F                       268          248               7808  2162       862   \n",
      "M                       324          208               8068  2196       940   \n",
      "\n",
      "Sub_Category     Fenders  Gloves  Helmets  Hydration Packs  Jerseys  \\\n",
      "Customer_Gender                                                       \n",
      "F                   1878    1210     5794              648     2834   \n",
      "M                   2154    1476     6364              686     3176   \n",
      "\n",
      "Sub_Category     Mountain Bikes  Road Bikes  Shorts  Socks  Tires and Tubes  \\\n",
      "Customer_Gender                                                               \n",
      "F                          4474        6538     834    536            16338   \n",
      "M                          4380        6892     960    586            17532   \n",
      "\n",
      "Sub_Category     Touring Bikes  Vests  \n",
      "Customer_Gender                        \n",
      "F                         1840    452  \n",
      "M                         1858    512  \n",
      "The P-Value of the ChiSq Test is: 1.8241732438226911e-07\n"
     ]
    }
   ],
   "source": [
    "#Testing a categoricals variables with a Chi-Square Test \n",
    "\n",
    "\n",
    "#Generate a cross-tabulation between 'Customer Gender' and 'Sub Category'\n",
    "CrosstabResult=pd.crosstab(index=df['Customer_Gender'],columns=df['Sub_Category'])\n",
    "print(CrosstabResult)\n",
    "\n",
    "# import the required library to generate a contigency table\n",
    "from scipy.stats import chi2_contingency\n",
    "\n",
    "# Perform Chi-square test\n",
    "ChiSqResult = chi2_contingency(CrosstabResult)\n",
    "\n",
    "print('The P-Value of the ChiSq Test is:', ChiSqResult[1])"
   ]
  },
  {
   "cell_type": "code",
   "execution_count": 30,
   "metadata": {},
   "outputs": [
    {
     "name": "stdout",
     "output_type": "stream",
     "text": [
      "##### ANOVA Results ##### \n",
      "\n",
      "Customer_Gender is correlated with Profit | P-Value: 0.012725777565681728\n"
     ]
    },
    {
     "data": {
      "text/plain": [
       "['Customer_Gender']"
      ]
     },
     "execution_count": 30,
     "metadata": {},
     "output_type": "execute_result"
    }
   ],
   "source": [
    "#Using an ANOVA to test Question 7\n",
    "\n",
    "# Defining a function to find the statistical relationship with all the categorical variables\n",
    "def FunctionAnova(inpData, TargetVariable, CategoricalPredictorList):\n",
    "    from scipy.stats import f_oneway\n",
    "\n",
    "    # Creating an empty list of final selected predictors\n",
    "    SelectedPredictors=[]\n",
    "    \n",
    "    print('##### ANOVA Results ##### \\n')\n",
    "    for predictor in CategoricalPredictorList:\n",
    "        CategoryGroupLists=inpData.groupby(predictor)[TargetVariable].apply(list)\n",
    "        AnovaResults = f_oneway(*CategoryGroupLists)\n",
    "        \n",
    "        # If the ANOVA P-Value is <0.05, that means we reject H0\n",
    "        if (AnovaResults[1] < 0.05):\n",
    "            print(predictor, 'is correlated with', TargetVariable, '| P-Value:', AnovaResults[1])\n",
    "            SelectedPredictors.append(predictor)\n",
    "        else:\n",
    "            print(predictor, 'is NOT correlated with', TargetVariable, '| P-Value:', AnovaResults[1])\n",
    "    \n",
    "    return(SelectedPredictors)\n",
    "\n",
    "\n",
    "# Calling the function to check which categorical variables are correlated with target\n",
    "CategoricalPredictorList=['Customer_Gender']\n",
    "FunctionAnova(inpData=df, \n",
    "              TargetVariable='Profit', \n",
    "              CategoricalPredictorList=CategoricalPredictorList)"
   ]
  }
 ],
 "metadata": {
  "kernelspec": {
   "display_name": "class",
   "language": "python",
   "name": "python3"
  },
  "language_info": {
   "codemirror_mode": {
    "name": "ipython",
    "version": 3
   },
   "file_extension": ".py",
   "mimetype": "text/x-python",
   "name": "python",
   "nbconvert_exporter": "python",
   "pygments_lexer": "ipython3",
   "version": "3.12.5"
  }
 },
 "nbformat": 4,
 "nbformat_minor": 2
}
